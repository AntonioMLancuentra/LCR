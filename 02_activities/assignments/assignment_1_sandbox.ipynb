{
 "cells": [
  {
   "cell_type": "markdown",
   "id": "7b0bcac6-5086-4f4e-928a-570a9ff7ae58",
   "metadata": {},
   "source": [
    "# Assignment 1"
   ]
  },
  {
   "cell_type": "markdown",
   "id": "5fce0350-2a17-4e93-8d4c-0b8748fdfc32",
   "metadata": {},
   "source": [
    "You only need to write one line of code for each question. When answering questions that ask you to identify or interpret something, the length of your response doesn’t matter. For example, if the answer is just ‘yes,’ ‘no,’ or a number, you can just give that answer without adding anything else.\n",
    "\n",
    "We will go through comparable code and concepts in the live learning session. If you run into trouble, start by using the help `help()` function in Python, to get information about the datasets and function in question. The internet is also a great resource when coding (though note that **no outside searches are required by the assignment!**). If you do incorporate code from the internet, please cite the source within your code (providing a URL is sufficient).\n",
    "\n",
    "Please bring questions that you cannot work out on your own to office hours, work periods or share with your peers on Slack. We will work with you through the issue."
   ]
  },
  {
   "cell_type": "markdown",
   "id": "5fc5001c-7715-4ebe-b0f7-e4bd04349629",
   "metadata": {},
   "source": [
    "### Classification using KNN\n",
    "\n",
    "Let's set up our workspace and use the **Wine dataset** from `scikit-learn`. This dataset contains 178 wine samples with 13 chemical features, used to classify wines into different classes based on their origin.\n",
    "\n",
    "The **response variable** is `class`, which indicates the type of wine. We'll use all of the chemical features to predict this response variable."
   ]
  },
  {
   "cell_type": "code",
   "execution_count": 3,
   "id": "4a3485d6-ba58-4660-a983-5680821c5719",
   "metadata": {},
   "outputs": [],
   "source": [
    "# Import standard libraries\n",
    "import pandas as pd\n",
    "import numpy as np\n",
    "import random\n",
    "import matplotlib.pyplot as plt\n",
    "import matplotlib.colors as mcolors\n",
    "from sklearn.preprocessing import StandardScaler\n",
    "from sklearn.model_selection import train_test_split\n",
    "from sklearn.neighbors import KNeighborsClassifier\n",
    "from sklearn.metrics import recall_score, precision_score\n",
    "from sklearn.model_selection import cross_validate, cross_val_score, LeaveOneOut\n",
    "from sklearn.model_selection import GridSearchCV\n",
    "from sklearn.metrics import accuracy_score"
   ]
  },
  {
   "cell_type": "code",
   "execution_count": 4,
   "id": "a431d282-f9ca-4d5d-8912-71ffc9d8ea19",
   "metadata": {},
   "outputs": [
    {
     "data": {
      "text/html": [
       "<div>\n",
       "<style scoped>\n",
       "    .dataframe tbody tr th:only-of-type {\n",
       "        vertical-align: middle;\n",
       "    }\n",
       "\n",
       "    .dataframe tbody tr th {\n",
       "        vertical-align: top;\n",
       "    }\n",
       "\n",
       "    .dataframe thead th {\n",
       "        text-align: right;\n",
       "    }\n",
       "</style>\n",
       "<table border=\"1\" class=\"dataframe\">\n",
       "  <thead>\n",
       "    <tr style=\"text-align: right;\">\n",
       "      <th></th>\n",
       "      <th>alcohol</th>\n",
       "      <th>malic_acid</th>\n",
       "      <th>ash</th>\n",
       "      <th>alcalinity_of_ash</th>\n",
       "      <th>magnesium</th>\n",
       "      <th>total_phenols</th>\n",
       "      <th>flavanoids</th>\n",
       "      <th>nonflavanoid_phenols</th>\n",
       "      <th>proanthocyanins</th>\n",
       "      <th>color_intensity</th>\n",
       "      <th>hue</th>\n",
       "      <th>od280/od315_of_diluted_wines</th>\n",
       "      <th>proline</th>\n",
       "      <th>class</th>\n",
       "    </tr>\n",
       "  </thead>\n",
       "  <tbody>\n",
       "    <tr>\n",
       "      <th>0</th>\n",
       "      <td>14.23</td>\n",
       "      <td>1.71</td>\n",
       "      <td>2.43</td>\n",
       "      <td>15.6</td>\n",
       "      <td>127.0</td>\n",
       "      <td>2.80</td>\n",
       "      <td>3.06</td>\n",
       "      <td>0.28</td>\n",
       "      <td>2.29</td>\n",
       "      <td>5.64</td>\n",
       "      <td>1.04</td>\n",
       "      <td>3.92</td>\n",
       "      <td>1065.0</td>\n",
       "      <td>0</td>\n",
       "    </tr>\n",
       "    <tr>\n",
       "      <th>1</th>\n",
       "      <td>13.20</td>\n",
       "      <td>1.78</td>\n",
       "      <td>2.14</td>\n",
       "      <td>11.2</td>\n",
       "      <td>100.0</td>\n",
       "      <td>2.65</td>\n",
       "      <td>2.76</td>\n",
       "      <td>0.26</td>\n",
       "      <td>1.28</td>\n",
       "      <td>4.38</td>\n",
       "      <td>1.05</td>\n",
       "      <td>3.40</td>\n",
       "      <td>1050.0</td>\n",
       "      <td>0</td>\n",
       "    </tr>\n",
       "    <tr>\n",
       "      <th>2</th>\n",
       "      <td>13.16</td>\n",
       "      <td>2.36</td>\n",
       "      <td>2.67</td>\n",
       "      <td>18.6</td>\n",
       "      <td>101.0</td>\n",
       "      <td>2.80</td>\n",
       "      <td>3.24</td>\n",
       "      <td>0.30</td>\n",
       "      <td>2.81</td>\n",
       "      <td>5.68</td>\n",
       "      <td>1.03</td>\n",
       "      <td>3.17</td>\n",
       "      <td>1185.0</td>\n",
       "      <td>0</td>\n",
       "    </tr>\n",
       "    <tr>\n",
       "      <th>3</th>\n",
       "      <td>14.37</td>\n",
       "      <td>1.95</td>\n",
       "      <td>2.50</td>\n",
       "      <td>16.8</td>\n",
       "      <td>113.0</td>\n",
       "      <td>3.85</td>\n",
       "      <td>3.49</td>\n",
       "      <td>0.24</td>\n",
       "      <td>2.18</td>\n",
       "      <td>7.80</td>\n",
       "      <td>0.86</td>\n",
       "      <td>3.45</td>\n",
       "      <td>1480.0</td>\n",
       "      <td>0</td>\n",
       "    </tr>\n",
       "    <tr>\n",
       "      <th>4</th>\n",
       "      <td>13.24</td>\n",
       "      <td>2.59</td>\n",
       "      <td>2.87</td>\n",
       "      <td>21.0</td>\n",
       "      <td>118.0</td>\n",
       "      <td>2.80</td>\n",
       "      <td>2.69</td>\n",
       "      <td>0.39</td>\n",
       "      <td>1.82</td>\n",
       "      <td>4.32</td>\n",
       "      <td>1.04</td>\n",
       "      <td>2.93</td>\n",
       "      <td>735.0</td>\n",
       "      <td>0</td>\n",
       "    </tr>\n",
       "    <tr>\n",
       "      <th>...</th>\n",
       "      <td>...</td>\n",
       "      <td>...</td>\n",
       "      <td>...</td>\n",
       "      <td>...</td>\n",
       "      <td>...</td>\n",
       "      <td>...</td>\n",
       "      <td>...</td>\n",
       "      <td>...</td>\n",
       "      <td>...</td>\n",
       "      <td>...</td>\n",
       "      <td>...</td>\n",
       "      <td>...</td>\n",
       "      <td>...</td>\n",
       "      <td>...</td>\n",
       "    </tr>\n",
       "    <tr>\n",
       "      <th>173</th>\n",
       "      <td>13.71</td>\n",
       "      <td>5.65</td>\n",
       "      <td>2.45</td>\n",
       "      <td>20.5</td>\n",
       "      <td>95.0</td>\n",
       "      <td>1.68</td>\n",
       "      <td>0.61</td>\n",
       "      <td>0.52</td>\n",
       "      <td>1.06</td>\n",
       "      <td>7.70</td>\n",
       "      <td>0.64</td>\n",
       "      <td>1.74</td>\n",
       "      <td>740.0</td>\n",
       "      <td>2</td>\n",
       "    </tr>\n",
       "    <tr>\n",
       "      <th>174</th>\n",
       "      <td>13.40</td>\n",
       "      <td>3.91</td>\n",
       "      <td>2.48</td>\n",
       "      <td>23.0</td>\n",
       "      <td>102.0</td>\n",
       "      <td>1.80</td>\n",
       "      <td>0.75</td>\n",
       "      <td>0.43</td>\n",
       "      <td>1.41</td>\n",
       "      <td>7.30</td>\n",
       "      <td>0.70</td>\n",
       "      <td>1.56</td>\n",
       "      <td>750.0</td>\n",
       "      <td>2</td>\n",
       "    </tr>\n",
       "    <tr>\n",
       "      <th>175</th>\n",
       "      <td>13.27</td>\n",
       "      <td>4.28</td>\n",
       "      <td>2.26</td>\n",
       "      <td>20.0</td>\n",
       "      <td>120.0</td>\n",
       "      <td>1.59</td>\n",
       "      <td>0.69</td>\n",
       "      <td>0.43</td>\n",
       "      <td>1.35</td>\n",
       "      <td>10.20</td>\n",
       "      <td>0.59</td>\n",
       "      <td>1.56</td>\n",
       "      <td>835.0</td>\n",
       "      <td>2</td>\n",
       "    </tr>\n",
       "    <tr>\n",
       "      <th>176</th>\n",
       "      <td>13.17</td>\n",
       "      <td>2.59</td>\n",
       "      <td>2.37</td>\n",
       "      <td>20.0</td>\n",
       "      <td>120.0</td>\n",
       "      <td>1.65</td>\n",
       "      <td>0.68</td>\n",
       "      <td>0.53</td>\n",
       "      <td>1.46</td>\n",
       "      <td>9.30</td>\n",
       "      <td>0.60</td>\n",
       "      <td>1.62</td>\n",
       "      <td>840.0</td>\n",
       "      <td>2</td>\n",
       "    </tr>\n",
       "    <tr>\n",
       "      <th>177</th>\n",
       "      <td>14.13</td>\n",
       "      <td>4.10</td>\n",
       "      <td>2.74</td>\n",
       "      <td>24.5</td>\n",
       "      <td>96.0</td>\n",
       "      <td>2.05</td>\n",
       "      <td>0.76</td>\n",
       "      <td>0.56</td>\n",
       "      <td>1.35</td>\n",
       "      <td>9.20</td>\n",
       "      <td>0.61</td>\n",
       "      <td>1.60</td>\n",
       "      <td>560.0</td>\n",
       "      <td>2</td>\n",
       "    </tr>\n",
       "  </tbody>\n",
       "</table>\n",
       "<p>178 rows × 14 columns</p>\n",
       "</div>"
      ],
      "text/plain": [
       "     alcohol  malic_acid   ash  alcalinity_of_ash  magnesium  total_phenols  \\\n",
       "0      14.23        1.71  2.43               15.6      127.0           2.80   \n",
       "1      13.20        1.78  2.14               11.2      100.0           2.65   \n",
       "2      13.16        2.36  2.67               18.6      101.0           2.80   \n",
       "3      14.37        1.95  2.50               16.8      113.0           3.85   \n",
       "4      13.24        2.59  2.87               21.0      118.0           2.80   \n",
       "..       ...         ...   ...                ...        ...            ...   \n",
       "173    13.71        5.65  2.45               20.5       95.0           1.68   \n",
       "174    13.40        3.91  2.48               23.0      102.0           1.80   \n",
       "175    13.27        4.28  2.26               20.0      120.0           1.59   \n",
       "176    13.17        2.59  2.37               20.0      120.0           1.65   \n",
       "177    14.13        4.10  2.74               24.5       96.0           2.05   \n",
       "\n",
       "     flavanoids  nonflavanoid_phenols  proanthocyanins  color_intensity   hue  \\\n",
       "0          3.06                  0.28             2.29             5.64  1.04   \n",
       "1          2.76                  0.26             1.28             4.38  1.05   \n",
       "2          3.24                  0.30             2.81             5.68  1.03   \n",
       "3          3.49                  0.24             2.18             7.80  0.86   \n",
       "4          2.69                  0.39             1.82             4.32  1.04   \n",
       "..          ...                   ...              ...              ...   ...   \n",
       "173        0.61                  0.52             1.06             7.70  0.64   \n",
       "174        0.75                  0.43             1.41             7.30  0.70   \n",
       "175        0.69                  0.43             1.35            10.20  0.59   \n",
       "176        0.68                  0.53             1.46             9.30  0.60   \n",
       "177        0.76                  0.56             1.35             9.20  0.61   \n",
       "\n",
       "     od280/od315_of_diluted_wines  proline  class  \n",
       "0                            3.92   1065.0      0  \n",
       "1                            3.40   1050.0      0  \n",
       "2                            3.17   1185.0      0  \n",
       "3                            3.45   1480.0      0  \n",
       "4                            2.93    735.0      0  \n",
       "..                            ...      ...    ...  \n",
       "173                          1.74    740.0      2  \n",
       "174                          1.56    750.0      2  \n",
       "175                          1.56    835.0      2  \n",
       "176                          1.62    840.0      2  \n",
       "177                          1.60    560.0      2  \n",
       "\n",
       "[178 rows x 14 columns]"
      ]
     },
     "execution_count": 4,
     "metadata": {},
     "output_type": "execute_result"
    }
   ],
   "source": [
    "from sklearn.datasets import load_wine\n",
    "\n",
    "# Load the Wine dataset\n",
    "wine_data = load_wine()\n",
    "\n",
    "# Convert to DataFrame\n",
    "wine_df = pd.DataFrame(wine_data.data, columns=wine_data.feature_names)\n",
    "\n",
    "# Bind the 'class' (wine target) to the DataFrame\n",
    "wine_df['class'] = wine_data.target\n",
    "\n",
    "# Display the DataFrame\n",
    "wine_df\n"
   ]
  },
  {
   "cell_type": "markdown",
   "id": "721b2b17",
   "metadata": {},
   "source": [
    "#### **Question 1:** \n",
    "#### Data inspection\n",
    "\n",
    "Before fitting any model, it is essential to understand our data. **Use Python code** to answer the following questions about the **Wine dataset**:\n",
    "\n",
    "_(i)_ How many observations (rows) does the dataset contain?"
   ]
  },
  {
   "cell_type": "code",
   "execution_count": 5,
   "id": "56916892",
   "metadata": {},
   "outputs": [
    {
     "data": {
      "text/plain": [
       "178"
      ]
     },
     "execution_count": 5,
     "metadata": {},
     "output_type": "execute_result"
    }
   ],
   "source": [
    "wine_df.shape[0]"
   ]
  },
  {
   "cell_type": "markdown",
   "id": "f7573b59",
   "metadata": {},
   "source": [
    "_(ii)_ How many variables (columns) does the dataset contain?"
   ]
  },
  {
   "cell_type": "code",
   "execution_count": 6,
   "id": "df0ef103",
   "metadata": {},
   "outputs": [
    {
     "data": {
      "text/plain": [
       "14"
      ]
     },
     "execution_count": 6,
     "metadata": {},
     "output_type": "execute_result"
    }
   ],
   "source": [
    "wine_df.shape[1]"
   ]
  },
  {
   "cell_type": "markdown",
   "id": "cb5180c7",
   "metadata": {},
   "source": [
    "_(iii)_ What is the 'variable type' of the response variable `class` (e.g., 'integer', 'category', etc.)? What are the 'levels' (unique values) of the variable?"
   ]
  },
  {
   "cell_type": "code",
   "execution_count": 7,
   "id": "47989426",
   "metadata": {},
   "outputs": [
    {
     "name": "stdout",
     "output_type": "stream",
     "text": [
      "The variable type of the response variable class is int32, which is a subtype of integer\n",
      "The 'levels' of variable class are [0, 1, 2]\n"
     ]
    }
   ],
   "source": [
    "print(f'The variable type of the response variable class is {wine_df[\"class\"].dtype}, which is a subtype of integer')\n",
    "print(f'The \\'levels\\' of variable class are {[level for level in wine_df[\"class\"].unique()]}')"
   ]
  },
  {
   "cell_type": "markdown",
   "id": "a25f5e1b",
   "metadata": {},
   "source": [
    "\n",
    "_(iv)_ How many predictor variables do we have (Hint: all variables other than `class`)? "
   ]
  },
  {
   "cell_type": "code",
   "execution_count": 8,
   "id": "bd7b0910",
   "metadata": {},
   "outputs": [
    {
     "name": "stdout",
     "output_type": "stream",
     "text": [
      "The Wine dataset contains 13 predictor variables\n"
     ]
    }
   ],
   "source": [
    "print(f'The Wine dataset contains {wine_df.shape[1]-1} predictor variables')"
   ]
  },
  {
   "cell_type": "markdown",
   "id": "d631e8e3",
   "metadata": {},
   "source": [
    "You can use `print()` and `describe()` to help answer these questions."
   ]
  },
  {
   "cell_type": "markdown",
   "id": "fa3832d7",
   "metadata": {},
   "source": [
    "#### **Question 2:** \n",
    "#### Standardization and data-splitting\n",
    "\n",
    "Next, we must preform 'pre-processing' or 'data munging', to prepare our data for classification/prediction. For KNN, there are three essential steps. A first essential step is to 'standardize' the predictor variables. We can achieve this using the scaler method, provided as follows:"
   ]
  },
  {
   "cell_type": "code",
   "execution_count": 9,
   "id": "cc899b59",
   "metadata": {},
   "outputs": [
    {
     "name": "stdout",
     "output_type": "stream",
     "text": [
      "    alcohol  malic_acid       ash  alcalinity_of_ash  magnesium  \\\n",
      "0  1.518613   -0.562250  0.232053          -1.169593   1.913905   \n",
      "1  0.246290   -0.499413 -0.827996          -2.490847   0.018145   \n",
      "2  0.196879    0.021231  1.109334          -0.268738   0.088358   \n",
      "3  1.691550   -0.346811  0.487926          -0.809251   0.930918   \n",
      "4  0.295700    0.227694  1.840403           0.451946   1.281985   \n",
      "\n",
      "   total_phenols  flavanoids  nonflavanoid_phenols  proanthocyanins  \\\n",
      "0       0.808997    1.034819             -0.659563         1.224884   \n",
      "1       0.568648    0.733629             -0.820719        -0.544721   \n",
      "2       0.808997    1.215533             -0.498407         2.135968   \n",
      "3       2.491446    1.466525             -0.981875         1.032155   \n",
      "4       0.808997    0.663351              0.226796         0.401404   \n",
      "\n",
      "   color_intensity       hue  od280/od315_of_diluted_wines   proline  \n",
      "0         0.251717  0.362177                      1.847920  1.013009  \n",
      "1        -0.293321  0.406051                      1.113449  0.965242  \n",
      "2         0.269020  0.318304                      0.788587  1.395148  \n",
      "3         1.186068 -0.427544                      1.184071  2.334574  \n",
      "4        -0.319276  0.362177                      0.449601 -0.037874  \n"
     ]
    }
   ],
   "source": [
    "# Select predictors (excluding the last column)\n",
    "predictors = wine_df.iloc[:, :-1]\n",
    "\n",
    "# Standardize the predictors\n",
    "scaler = StandardScaler()\n",
    "predictors_standardized = pd.DataFrame(scaler.fit_transform(predictors), columns=predictors.columns)\n",
    "\n",
    "# Display the head of the standardized predictors\n",
    "print(predictors_standardized.head())"
   ]
  },
  {
   "cell_type": "markdown",
   "id": "9981ca48",
   "metadata": {},
   "source": [
    "(i) Why is it important to standardize the predictor variables?"
   ]
  },
  {
   "cell_type": "markdown",
   "id": "403ef0bb",
   "metadata": {},
   "source": [
    "Because the scale of each variable affects predictions, with variables with larger scales dominating the prediction process. Through standardization, we level the field on that regard."
   ]
  },
  {
   "cell_type": "markdown",
   "id": "8e2e1bea",
   "metadata": {},
   "source": [
    "(ii) Why did we elect not to standard our response variable `Class`?"
   ]
  },
  {
   "cell_type": "markdown",
   "id": "fdee5a15",
   "metadata": {},
   "source": [
    "Because it is an actual Class or Label and the Labels will not change when we change the expression of all the features. In this case, the Class data type is to be categorical."
   ]
  },
  {
   "cell_type": "markdown",
   "id": "8077ec21",
   "metadata": {},
   "source": [
    "(iii) A second essential step is to set a random seed. Do so below (Hint: use the random.seed function). Why is setting a seed important? Is the particular seed value important? Why or why not?"
   ]
  },
  {
   "cell_type": "markdown",
   "id": "f0676c21",
   "metadata": {},
   "source": [
    "Setting a seed value guarantees the same results each time the analysis is run, in this case the outcome of the suffle process embedded inside train_test_split.\n",
    "\n",
    "The particular seed value is not important, as long as it is always the same value.\n",
    "\n",
    "It is not important because the value in the function seed is not mathematically related to the outcome, it just differenciates between outcomes."
   ]
  },
  {
   "cell_type": "markdown",
   "id": "36ab9229",
   "metadata": {},
   "source": [
    "(iv) A third essential step is to split our standardized data into separate training and testing sets. We will split into 75% training and 25% testing. The provided code randomly partitions our data, and creates linked training sets for the predictors and response variables. \n",
    "\n",
    "Extend the code to create a non-overlapping test set for the predictors and response variables."
   ]
  },
  {
   "cell_type": "code",
   "execution_count": 10,
   "id": "72c101f2",
   "metadata": {},
   "outputs": [],
   "source": [
    "# set a seed for reproducibility\n",
    "#np.random.seed(123)\n",
    "\n",
    "# change the response variable data type to categorical and assign it to a new variable for better readability\n",
    "wine_df['class'] = wine_df['class'].astype('category')\n",
    "response_var = wine_df['class'] \n",
    "\n",
    "# split the data into a training and testing set. hint: use train_test_split !\n",
    "predictors_standardized_train, predictors_standardized_test, response_var_train, response_var_test = train_test_split(\n",
    "    predictors_standardized, response_var, train_size=0.75, stratify = response_var, random_state = 123  # supersedes the np.random.seed(123)\n",
    ")\n"
   ]
  },
  {
   "cell_type": "code",
   "execution_count": 11,
   "id": "67c75d57",
   "metadata": {},
   "outputs": [],
   "source": [
    "# Assess the train/test split. UNCOMMENT AS NEEDED BEFORE RUNNING THE CODE\n",
    "#print(f'Before the split, let\\'s remind that the predictor variable shape is {predictors_standardized.shape} and the response variable shape is {response_var.shape}')\n",
    "#predictors_standardized_train.info()\n",
    "#print(f'Train predictor data set contains {int(round(predictors_standardized_train.shape[0]/predictors_standardized.shape[0]*100,0))} % of the data rows and {predictors_standardized_train.shape[1]} columns')\n",
    "#print(f'Train response data set contains {int(round(response_var_train.shape[0]/response_var.shape[0]*100,0))} % of the data rows and 1 column')\n",
    "#predictors_standardized_test.info()\n",
    "#print(f'Test predictor data set contains {int(round(predictors_standardized_test.shape[0]/predictors_standardized.shape[0]*100,0))} % of the data rows and {predictors_standardized_test.shape[1]} columns')\n",
    "#print(f'Test response data set contains {int(round(response_var_test.shape[0]/response_var.shape[0]*100,0))} % of the data rows and 1 column')\n",
    "#response_var_train.value_counts(normalize=True)\n",
    "#response_var_test.value_counts(normalize=True)"
   ]
  },
  {
   "cell_type": "markdown",
   "id": "4604ee03",
   "metadata": {},
   "source": [
    "#### **Question 3:**\n",
    "#### Model initialization and cross-validation\n",
    "We are finally set to fit the KNN model. \n",
    "\n",
    "\n",
    "Perform a grid search to tune the `n_neighbors` hyperparameter using 10-fold cross-validation. Follow these steps:\n",
    "\n",
    "1. Initialize the KNN classifier using `KNeighborsClassifier()`.\n",
    "2. Define a parameter grid for `n_neighbors` ranging from 1 to 50.\n",
    "3. Implement a grid search using `GridSearchCV` with 10-fold cross-validation to find the optimal number of neighbors.\n",
    "4. After fitting the model on the training data, identify and return the best value for `n_neighbors` based on the grid search results."
   ]
  },
  {
   "cell_type": "code",
   "execution_count": 12,
   "id": "08818c64",
   "metadata": {},
   "outputs": [
    {
     "name": "stdout",
     "output_type": "stream",
     "text": [
      "Best parameter {'n_neighbors': 23} \n",
      "Best estimator KNeighborsClassifier(n_neighbors=23)\n"
     ]
    }
   ],
   "source": [
    "# GRID SEARCH CV WITH MAX NUMBER OF FOLDS CV = 36\n",
    "# initialize the KNN classifier, n_neighbors is not relevant because it will iterate later through the grid search\n",
    "knn = KNeighborsClassifier(n_neighbors=1)\n",
    "# predictor - X, response - y\n",
    "X_train = predictors_standardized_train\n",
    "y_train = response_var_train\n",
    "# define parameter grid for `n_neighbors` ranging from 1 to 50\n",
    "parameter_grid = {\n",
    "    \"n_neighbors\": range(1, 129, 1),\n",
    "}\n",
    "# implement a grid search using `GridSearchCV` with 10-fold cross-validation to find the optimal number of neighbors\n",
    "# even if it doesn't ask for, use of scoring='accuracy' because it is the output required later\n",
    "wine_tune_grid = GridSearchCV(\n",
    "    estimator=knn,\n",
    "    param_grid=parameter_grid,\n",
    "    cv=36,\n",
    "    scoring='accuracy'\n",
    ")\n",
    "# fit the model on the training data\n",
    "wine_tune_grid.fit(X_train, y_train)\n",
    "# identify and return the best value for `n_neighbors` based on the grid search results\n",
    "print(f'Best parameter {wine_tune_grid.best_params_} \\nBest estimator {wine_tune_grid.best_estimator_}')"
   ]
  },
  {
   "cell_type": "markdown",
   "id": "4e2a2b11",
   "metadata": {},
   "source": [
    "The best value for `n_neighbors` is 7\n",
    "\n",
    "The following code in question 3 has been used to confirm this result but has not been necessary to obtain it. To run it, please remove the triple quotes '''  '''"
   ]
  },
  {
   "cell_type": "code",
   "execution_count": 13,
   "id": "d2631b73",
   "metadata": {},
   "outputs": [
    {
     "data": {
      "text/html": [
       "<div>\n",
       "<style scoped>\n",
       "    .dataframe tbody tr th:only-of-type {\n",
       "        vertical-align: middle;\n",
       "    }\n",
       "\n",
       "    .dataframe tbody tr th {\n",
       "        vertical-align: top;\n",
       "    }\n",
       "\n",
       "    .dataframe thead th {\n",
       "        text-align: right;\n",
       "    }\n",
       "</style>\n",
       "<table border=\"1\" class=\"dataframe\">\n",
       "  <thead>\n",
       "    <tr style=\"text-align: right;\">\n",
       "      <th></th>\n",
       "      <th>n_neighbors</th>\n",
       "      <th>mean_test_score</th>\n",
       "      <th>std_error</th>\n",
       "    </tr>\n",
       "  </thead>\n",
       "  <tbody>\n",
       "    <tr>\n",
       "      <th>40</th>\n",
       "      <td>41</td>\n",
       "      <td>0.972222</td>\n",
       "      <td>0.024845</td>\n",
       "    </tr>\n",
       "    <tr>\n",
       "      <th>23</th>\n",
       "      <td>24</td>\n",
       "      <td>0.972222</td>\n",
       "      <td>0.024845</td>\n",
       "    </tr>\n",
       "    <tr>\n",
       "      <th>22</th>\n",
       "      <td>23</td>\n",
       "      <td>0.972222</td>\n",
       "      <td>0.024845</td>\n",
       "    </tr>\n",
       "    <tr>\n",
       "      <th>6</th>\n",
       "      <td>7</td>\n",
       "      <td>0.969907</td>\n",
       "      <td>0.027183</td>\n",
       "    </tr>\n",
       "    <tr>\n",
       "      <th>8</th>\n",
       "      <td>9</td>\n",
       "      <td>0.969907</td>\n",
       "      <td>0.027183</td>\n",
       "    </tr>\n",
       "    <tr>\n",
       "      <th>15</th>\n",
       "      <td>16</td>\n",
       "      <td>0.969907</td>\n",
       "      <td>0.027183</td>\n",
       "    </tr>\n",
       "    <tr>\n",
       "      <th>4</th>\n",
       "      <td>5</td>\n",
       "      <td>0.969907</td>\n",
       "      <td>0.027183</td>\n",
       "    </tr>\n",
       "    <tr>\n",
       "      <th>12</th>\n",
       "      <td>13</td>\n",
       "      <td>0.969907</td>\n",
       "      <td>0.027183</td>\n",
       "    </tr>\n",
       "    <tr>\n",
       "      <th>38</th>\n",
       "      <td>39</td>\n",
       "      <td>0.965278</td>\n",
       "      <td>0.027340</td>\n",
       "    </tr>\n",
       "    <tr>\n",
       "      <th>27</th>\n",
       "      <td>28</td>\n",
       "      <td>0.965278</td>\n",
       "      <td>0.033086</td>\n",
       "    </tr>\n",
       "  </tbody>\n",
       "</table>\n",
       "</div>"
      ],
      "text/plain": [
       "    n_neighbors  mean_test_score  std_error\n",
       "40           41         0.972222   0.024845\n",
       "23           24         0.972222   0.024845\n",
       "22           23         0.972222   0.024845\n",
       "6             7         0.969907   0.027183\n",
       "8             9         0.969907   0.027183\n",
       "15           16         0.969907   0.027183\n",
       "4             5         0.969907   0.027183\n",
       "12           13         0.969907   0.027183\n",
       "38           39         0.965278   0.027340\n",
       "27           28         0.965278   0.033086"
      ]
     },
     "execution_count": 13,
     "metadata": {},
     "output_type": "execute_result"
    }
   ],
   "source": [
    "# Confirm the best accuracy from the grid search in a table. CONFIRMED. UNCOMMENT IF NEED TO RUN THE CODE \n",
    "# value of accuracies for 'n_neighbors'\n",
    "accuracies_grid = pd.DataFrame(wine_tune_grid.cv_results_)\n",
    "accuracies_grid['n_neighbors'] = accuracies_grid.index + 1\n",
    "accuracies_grid['std_error'] = accuracies_grid['std_test_score'] / np.sqrt(10)\n",
    "accuracies_grid.sort_values(by = ['mean_test_score'], ascending = False, inplace = True)\n",
    "accuracies_grid[['n_neighbors', 'mean_test_score', 'std_error']].head(10)"
   ]
  },
  {
   "cell_type": "markdown",
   "id": "14ac697e",
   "metadata": {},
   "source": [
    "The table output from the code just above shows that the accuracy and associated standard error is exactly the same for n_neighbors k = 7 than for k = 13.\n",
    "\n",
    "The plot output from code just below also shows that both k values have the same accuracy. Additionally, it shows that the sensitivity is similar, meaning the accuracy for k values beside themselves.\n",
    "\n",
    "Under similar conditions, we will pick the simpler model, which in this case is the k value with lower computational cost, which is k = 7."
   ]
  },
  {
   "cell_type": "code",
   "execution_count": 14,
   "id": "4b690cfb",
   "metadata": {},
   "outputs": [
    {
     "data": {
      "image/png": "[encoded data removed]",
      "text/plain": [
       "<Figure size 1000x600 with 1 Axes>"
      ]
     },
     "metadata": {},
     "output_type": "display_data"
    }
   ],
   "source": [
    "# Confirm the best accuracy from the grid search in a plot. CONFIRMED. UNCOMMENT IF NEED TO RUN THE CODE \n",
    "\n",
    "# value of accuracies for 'n_neighbors'\n",
    "accuracies_grid = pd.DataFrame(wine_tune_grid.cv_results_)\n",
    "# Create the plot\n",
    "plt.figure(figsize=(10, 6))\n",
    "# Plot mean test scores with error bars\n",
    "plt.plot(accuracies_grid['param_n_neighbors'], accuracies_grid['mean_test_score'], '-o', color='blue')\n",
    "# Add labels and legend\n",
    "plt.xlabel('Number of Neighbors')\n",
    "plt.ylabel('Accuracy estimate')\n",
    "plt.title('K-Nearest Neighbors Performance')\n",
    "plt.tight_layout()\n",
    "plt.show()\n"
   ]
  },
  {
   "cell_type": "code",
   "execution_count": 15,
   "id": "cc69b900",
   "metadata": {},
   "outputs": [
    {
     "data": {
      "text/html": [
       "<div>\n",
       "<style scoped>\n",
       "    .dataframe tbody tr th:only-of-type {\n",
       "        vertical-align: middle;\n",
       "    }\n",
       "\n",
       "    .dataframe tbody tr th {\n",
       "        vertical-align: top;\n",
       "    }\n",
       "\n",
       "    .dataframe thead th {\n",
       "        text-align: right;\n",
       "    }\n",
       "</style>\n",
       "<table border=\"1\" class=\"dataframe\">\n",
       "  <thead>\n",
       "    <tr style=\"text-align: right;\">\n",
       "      <th></th>\n",
       "      <th>fit_time</th>\n",
       "      <th>score_time</th>\n",
       "      <th>test_score</th>\n",
       "    </tr>\n",
       "  </thead>\n",
       "  <tbody>\n",
       "    <tr>\n",
       "      <th>mean</th>\n",
       "      <td>0.004375</td>\n",
       "      <td>0.005963</td>\n",
       "      <td>0.972222</td>\n",
       "    </tr>\n",
       "    <tr>\n",
       "      <th>sem</th>\n",
       "      <td>0.000257</td>\n",
       "      <td>0.000272</td>\n",
       "      <td>0.013280</td>\n",
       "    </tr>\n",
       "  </tbody>\n",
       "</table>\n",
       "</div>"
      ],
      "text/plain": [
       "      fit_time  score_time  test_score\n",
       "mean  0.004375    0.005963    0.972222\n",
       "sem   0.000257    0.000272    0.013280"
      ]
     },
     "execution_count": 15,
     "metadata": {},
     "output_type": "execute_result"
    }
   ],
   "source": [
    "# Confirm the accuracy obtained from the grid search with best_params_. CONFIRMED \n",
    "\n",
    "knn = KNeighborsClassifier(n_neighbors=23)\n",
    "returned_dictionary = cross_validate(\n",
    "    estimator=knn,\n",
    "    cv=36,    # setting up the cross validation number\n",
    "    X=X_train,\n",
    "    y=y_train\n",
    ")\n",
    "cv_10_df = pd.DataFrame(returned_dictionary)    # convert it to pandas DataFrame\n",
    "cv_10_metrics = cv_10_df.agg([\"mean\", \"sem\"])   # obtain the mean and standard error of the mean\n",
    "cv_10_metrics                                   \n",
    "# obtained same accuracy value (0.977473) and similar standard error (0.011480) of the mean than ones from the grid search shown above in a table\n"
   ]
  },
  {
   "cell_type": "code",
   "execution_count": 16,
   "id": "5fa18d41",
   "metadata": {},
   "outputs": [
    {
     "data": {
      "text/plain": [
       "0.9699248120300752"
      ]
     },
     "execution_count": 16,
     "metadata": {},
     "output_type": "execute_result"
    }
   ],
   "source": [
    "# ACCURACY_SCORE ON ITSELF\n",
    "# best value for `n_neighbors` is 23\n",
    "knn = KNeighborsClassifier(n_neighbors=23)\n",
    "# fit the model on the training data\n",
    "knn.fit(X_train, y_train)\n",
    "# predict the class labels for the train data (itself)\n",
    "y_pred = knn.predict(X_train)\n",
    "# obtain the accuracy score\n",
    "accuracy_score(y_train, y_pred)  # 0.96992  same result as knn.score\n",
    "# It returns artificially high accuracy because each point is compared also to itself. NOT GOOD PRACTICE"
   ]
  },
  {
   "cell_type": "code",
   "execution_count": 17,
   "id": "36292dc4",
   "metadata": {},
   "outputs": [
    {
     "data": {
      "text/plain": [
       "0.9699248120300752"
      ]
     },
     "execution_count": 17,
     "metadata": {},
     "output_type": "execute_result"
    }
   ],
   "source": [
    "# SCORE ON ITSELF\n",
    "# best value for `n_neighbors` is 23\n",
    "knn = KNeighborsClassifier(n_neighbors=23)\n",
    "# fit the model on the training data\n",
    "knn.fit(X_train, y_train)\n",
    "# obtain the score\n",
    "knn.score(X_train, y_train) # 0.96992  same result as accuracy_score\n",
    "# It returns artificially high accuracy because each point is compared also to itself. NOT GOOD PRACTICE"
   ]
  },
  {
   "cell_type": "code",
   "execution_count": 18,
   "id": "41285c57",
   "metadata": {},
   "outputs": [
    {
     "data": {
      "text/plain": [
       "0.9699248120300752"
      ]
     },
     "execution_count": 18,
     "metadata": {},
     "output_type": "execute_result"
    }
   ],
   "source": [
    "# SCORE LEAVE-ONE-OUT\n",
    "# best value for `n_neighbors` is 23\n",
    "knn = KNeighborsClassifier(n_neighbors=23)\n",
    "# fit the model on the training data\n",
    "knn.fit(X_train, y_train)\n",
    "# obtain the score\n",
    "knn.score(None, y_train) # If None, predictions for all indexed points are used; in this case, points are not considered their own neighbors\n",
    "# implicitly performs a leave-one-out cross-validation procedure\n",
    "# is equivalent to cross_val_score(knn, X, y, cv=LeaveOneOut()) but typically much faster\n",
    "# 0.96992  same result as accuracy_score on itself and score on itself"
   ]
  },
  {
   "cell_type": "code",
   "execution_count": 19,
   "id": "338249b5",
   "metadata": {},
   "outputs": [
    {
     "data": {
      "text/plain": [
       "0.9699248120300752"
      ]
     },
     "execution_count": 19,
     "metadata": {},
     "output_type": "execute_result"
    }
   ],
   "source": [
    "# CROSS_VAL_SCORE LEAVE-ONE-OUT\n",
    "# best value for `n_neighbors` is 23\n",
    "knn = KNeighborsClassifier(n_neighbors=23)\n",
    "# fit the model on the training data and obtain the score\n",
    "cross_val_score(knn, X_train, y_train, cv=LeaveOneOut()).mean()\n",
    "# 0.96992  same result as accuracy_score on itself and score on itself\n"
   ]
  },
  {
   "cell_type": "code",
   "execution_count": 27,
   "id": "a5313e0a",
   "metadata": {},
   "outputs": [
    {
     "data": {
      "image/png": "[encoded data removed]",
      "text/plain": [
       "<Figure size 1000x600 with 1 Axes>"
      ]
     },
     "metadata": {},
     "output_type": "display_data"
    }
   ],
   "source": [
    "# Loop for the best K with SCORE LEAVE-ONE-OUT through the WHOLE DATASET\n",
    "X = predictors_standardized\n",
    "y = response_var\n",
    "score_list = []\n",
    "for k in range(1, 178, 1):\n",
    "    knn = KNeighborsClassifier(n_neighbors=k)\n",
    "    # fit the model on the training data\n",
    "    knn.fit(X, y)\n",
    "    # obtain the score\n",
    "    score_list.append(knn.score(None, y)) \n",
    "\n",
    "# Create the plot\n",
    "plt.figure(figsize=(10, 6))\n",
    "# Plot mean test accuracies\n",
    "plt.plot(range(1, 48, 1), score_list[:47], '-o', color='blue')\n",
    "# Add labels and legend\n",
    "plt.xlabel('Number of Neighbors')\n",
    "plt.ylabel('Accuracy in test data')\n",
    "plt.title('K-Nearest Neighbors Performance')\n",
    "plt.tight_layout()\n",
    "plt.show()"
   ]
  },
  {
   "cell_type": "markdown",
   "id": "3f76bf62",
   "metadata": {},
   "source": [
    "#### **Question 4:**\n",
    "#### Model evaluation\n",
    "\n",
    "Using the best value for `n_neighbors`, fit a KNN model on the training data and evaluate its performance on the test set using `accuracy_score`."
   ]
  },
  {
   "cell_type": "code",
   "execution_count": 21,
   "id": "8e2119f0",
   "metadata": {},
   "outputs": [
    {
     "data": {
      "text/plain": [
       "0.9777777777777777"
      ]
     },
     "execution_count": 21,
     "metadata": {},
     "output_type": "execute_result"
    }
   ],
   "source": [
    "# best value for `n_neighbors` is 23\n",
    "knn = KNeighborsClassifier(n_neighbors=23)\n",
    "# fit the model on the training data\n",
    "knn.fit(X_train, y_train)\n",
    "# bring the test data\n",
    "X_test = predictors_standardized_test\n",
    "y_true = response_var_test\n",
    "# predict the class labels for the test data\n",
    "y_pred = knn.predict(X_test)\n",
    "# obtain the accuracy score\n",
    "accuracy_score(y_true, y_pred)"
   ]
  },
  {
   "cell_type": "code",
   "execution_count": 22,
   "id": "725a25cb",
   "metadata": {},
   "outputs": [
    {
     "data": {
      "image/png": "[encoded data removed]",
      "text/plain": [
       "<Figure size 1000x600 with 1 Axes>"
      ]
     },
     "metadata": {},
     "output_type": "display_data"
    }
   ],
   "source": [
    "# bring the test data\n",
    "X_test = predictors_standardized_test\n",
    "y_true = response_var_test\n",
    "# prepare the loop\n",
    "accuracy_score_list = []\n",
    "for k in range(1, 134, 1):\n",
    "    knn = KNeighborsClassifier(n_neighbors=k)\n",
    "    # fit the model on the training data\n",
    "    knn.fit(X_train, y_train)\n",
    "    # predict the class labels for the test data\n",
    "    y_pred = knn.predict(X_test)\n",
    "    # obtain the accuracy score\n",
    "    accuracy_score_list.append(accuracy_score(y_true, y_pred))\n",
    "# Create the plot\n",
    "plt.figure(figsize=(10, 6))\n",
    "# Plot mean test accuracies\n",
    "plt.plot(range(1, 134, 1), accuracy_score_list, '-o', color='blue')\n",
    "# Add labels and legend\n",
    "plt.xlabel('Number of Neighbors')\n",
    "plt.ylabel('Accuracy in test data')\n",
    "plt.title('K-Nearest Neighbors Performance')\n",
    "plt.tight_layout()\n",
    "plt.show()"
   ]
  },
  {
   "cell_type": "markdown",
   "id": "e344c58f",
   "metadata": {},
   "source": [
    "Performance on the test: the accuracy of the model in the test data is 97.22%\n",
    "\n",
    "In order to further evaluate its performance, precision and recall have been calculated for each label:"
   ]
  },
  {
   "cell_type": "code",
   "execution_count": 23,
   "id": "feb8f1ae",
   "metadata": {},
   "outputs": [
    {
     "name": "stderr",
     "output_type": "stream",
     "text": [
      "c:\\miniconda3\\envs\\dsi_participant\\lib\\site-packages\\sklearn\\metrics\\_classification.py:1565: UndefinedMetricWarning: Precision is ill-defined and being set to 0.0 in labels with no predicted samples. Use `zero_division` parameter to control this behavior.\n",
      "  _warn_prf(average, modifier, f\"{metric.capitalize()} is\", len(result))\n"
     ]
    },
    {
     "data": {
      "text/plain": [
       "array([0. , 0.4, 0. ])"
      ]
     },
     "execution_count": 23,
     "metadata": {},
     "output_type": "execute_result"
    }
   ],
   "source": [
    "# Precision of each class\n",
    "precision_score(y_true, y_pred, average = None)   # array([0.88, 1.00, 0.92])"
   ]
  },
  {
   "cell_type": "code",
   "execution_count": 24,
   "id": "f68ee84c",
   "metadata": {},
   "outputs": [
    {
     "data": {
      "text/plain": [
       "array([0., 1., 0.])"
      ]
     },
     "execution_count": 24,
     "metadata": {},
     "output_type": "execute_result"
    }
   ],
   "source": [
    "# Recall of each class\n",
    "recall_score(y_true, y_pred, average = None)       # array([1.00, 0.83, 1.00])"
   ]
  },
  {
   "cell_type": "markdown",
   "id": "a8302de4",
   "metadata": {},
   "source": [
    "Class 0: with a recall of 100% and a precision of 88%, the model detects all class 0 wines at the cost of being mistaken in 12% of the cases, where some class 1 wines are labelled as class 0.\n",
    "\n",
    "Class 1: with a precision of 100%, the model is never wrong when labels a wine as class 1 but with a recall of 83% it misses 17% of them, labelling them sometimes as class 0 or 2. \n",
    "\n",
    "Class 2: with a recall of 100% and a precision of 92%, the model detects all class 2 wines at the cost of being mistaken in 8% of the cases, where some class 1 wines are labelled as class 2."
   ]
  }
 ],
 "metadata": {
  "kernelspec": {
   "display_name": "dsi_participant",
   "language": "python",
   "name": "python3"
  },
  "language_info": {
   "codemirror_mode": {
    "name": "ipython",
    "version": 3
   },
   "file_extension": ".py",
   "mimetype": "text/x-python",
   "name": "python",
   "nbconvert_exporter": "python",
   "pygments_lexer": "ipython3",
   "version": "3.9.19"
  }
 },
 "nbformat": 4,
 "nbformat_minor": 5
}
