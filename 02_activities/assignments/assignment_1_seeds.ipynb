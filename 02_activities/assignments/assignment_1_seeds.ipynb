{
 "cells": [
  {
   "cell_type": "markdown",
   "id": "7b0bcac6-5086-4f4e-928a-570a9ff7ae58",
   "metadata": {},
   "source": [
    "# Assignment 1"
   ]
  },
  {
   "cell_type": "code",
   "execution_count": 2,
   "id": "4a3485d6-ba58-4660-a983-5680821c5719",
   "metadata": {},
   "outputs": [],
   "source": [
    "# Import standard libraries\n",
    "import pandas as pd\n",
    "import numpy as np\n",
    "import random\n",
    "import matplotlib.pyplot as plt\n",
    "import matplotlib.colors as mcolors\n",
    "from sklearn.preprocessing import StandardScaler\n",
    "from sklearn.model_selection import train_test_split\n",
    "from sklearn.neighbors import KNeighborsClassifier\n",
    "from sklearn.metrics import recall_score, precision_score\n",
    "from sklearn.model_selection import cross_validate\n",
    "from sklearn.model_selection import GridSearchCV\n",
    "from sklearn.metrics import accuracy_score"
   ]
  },
  {
   "cell_type": "code",
   "execution_count": 4,
   "id": "a431d282-f9ca-4d5d-8912-71ffc9d8ea19",
   "metadata": {},
   "outputs": [],
   "source": [
    "from sklearn.datasets import load_wine\n",
    "\n",
    "# Load the Wine dataset\n",
    "wine_data = load_wine()\n",
    "\n",
    "# Convert to DataFrame\n",
    "wine_df = pd.DataFrame(wine_data.data, columns=wine_data.feature_names)\n",
    "\n",
    "# Bind the 'class' (wine target) to the DataFrame\n",
    "wine_df['class'] = wine_data.target\n",
    "\n",
    "# Display the DataFrame\n",
    "#wine_df\n"
   ]
  },
  {
   "cell_type": "code",
   "execution_count": 6,
   "id": "cc899b59",
   "metadata": {},
   "outputs": [],
   "source": [
    "# Select predictors (excluding the last column)\n",
    "predictors = wine_df.iloc[:, :-1]\n",
    "\n",
    "# Standardize the predictors\n",
    "scaler = StandardScaler()\n",
    "predictors_standardized = pd.DataFrame(scaler.fit_transform(predictors), columns=predictors.columns)\n",
    "\n",
    "# change the response variable data type to categorical and assign it to a new variable for better readability\n",
    "wine_df['class'] = wine_df['class'].astype('category')\n",
    "response_var = wine_df['class'] \n",
    "\n",
    "# Display the head of the standardized predictors\n",
    "#print(predictors_standardized.head())"
   ]
  },
  {
   "cell_type": "code",
   "execution_count": 34,
   "id": "72c101f2",
   "metadata": {},
   "outputs": [
    {
     "name": "stdout",
     "output_type": "stream",
     "text": [
      "[28, 27, 19, 25, 31, 14, 44, 27, 16, 20, 7, 15, 3, 20, 17, 39, 25, 19, 24, 24, 7, 13, 15, 13, 13, 5, 40, 24, 33, 19, 26, 11, 41, 22, 12, 7, 9, 41, 33, 23, 26, 20, 21, 21, 5, 26, 17, 5, 5, 29, 13, 16, 26, 3, 21, 17, 18, 19, 6, 7, 29, 13, 26, 24, 44, 25, 5, 17, 20, 15, 15, 1, 5, 7, 18, 26, 17, 16, 15, 24, 11, 15, 13, 25, 13, 19, 14, 37, 13, 28, 13, 21, 7, 7, 11, 23, 26, 20, 25, 5, 19, 28, 13, 26, 7, 21, 17, 3, 14, 13, 15, 39, 5, 32, 5, 7, 27, 14, 5, 18, 28, 19, 17, 7, 3, 22, 16, 25, 10, 7, 8, 14, 26, 27, 12, 31, 27, 12, 16, 3, 8, 19, 31, 19, 24, 25, 23, 7, 7, 15, 13, 28, 19, 20, 40, 22, 27, 20, 27, 26, 15, 6, 39, 33, 23, 23, 3, 7, 5, 24, 18, 20, 24, 35, 14, 31, 24, 11, 23, 17, 19, 4, 22, 21, 21, 25, 7, 25, 9, 17, 45, 7, 22, 23, 3, 27, 24, 20, 30, 9, 26, 19, 28, 27, 27, 20, 23, 12, 16, 7, 24, 3, 26, 5, 26, 7, 22, 3, 16, 46, 17, 13, 34, 26, 20, 15, 25, 22, 17, 5, 15, 45, 16, 16, 15, 25, 21, 23, 22, 3, 25, 6, 16, 23, 28, 8, 12, 48, 25, 15, 21, 29, 45, 13, 14, 29, 7, 3, 26, 23, 26, 3, 32, 22, 24, 28, 27, 26, 11, 27, 23, 25, 28, 26, 25, 26, 24, 19, 17, 5, 3, 19, 9, 3, 30, 15, 11, 23, 7, 37, 17, 16, 15, 22, 15, 22, 4, 9, 11, 41, 27, 1, 26, 13, 17, 12, 26, 13, 25, 13, 26, 17, 22, 7, 26, 5, 7, 14, 3, 21, 19, 29, 27, 7, 10, 25, 6, 24, 5, 22, 23, 21, 26, 17, 15, 17, 8, 7, 3, 12, 11, 28, 21, 19, 10, 17, 9, 3, 7, 30, 26, 9, 17, 3, 7, 23, 7, 5, 19, 10, 3, 24, 26, 19, 11, 17, 7, 12, 19, 5, 25, 35, 25, 17, 19, 19, 39, 21, 22, 8, 49, 27, 22, 13, 19, 9, 7, 25, 10, 4, 14, 13, 19, 7, 19, 5, 21, 29, 20, 23, 1, 23, 28, 24, 20, 14, 16, 13, 3, 23, 8, 5, 33, 17, 11, 5, 15, 21, 7, 11, 16, 26, 39, 27, 7, 3, 21, 20, 5, 15, 25, 18, 18, 23, 20, 26, 19, 25, 7, 25, 15, 13, 31, 21, 29, 3, 24, 14, 26, 4, 13, 20, 38, 21, 9, 33, 39, 25, 27, 3, 12, 23, 36, 8, 5, 27, 37, 22, 13, 21, 3, 8, 24, 27, 45, 20, 24, 24, 29, 19, 21, 9, 20, 23, 24, 12, 3, 1, 30, 5, 5, 22, 13, 15, 25, 9, 22, 13, 9, 26, 25, 41, 29, 29, 7, 9, 29, 27, 24, 45, 15, 16, 12, 24, 7, 27, 13, 3, 12, 7, 37, 3, 3, 7, 24, 19, 3, 20, 21, 13, 32, 16, 13, 20, 21, 7, 5, 21, 7, 22, 17, 8, 26, 21, 3, 25, 5, 9, 5, 18, 21, 23, 25, 13, 11, 24, 24, 25, 13, 14, 5, 31, 8, 14, 5, 15, 10, 19, 6, 25, 29, 26, 9, 17, 27, 26, 19, 7, 7, 25, 21, 29, 21, 14, 13, 27, 14, 23, 21, 23, 16, 7, 5, 18, 7, 25, 15, 18, 20, 27, 13, 17, 31, 25, 29, 22, 5, 8, 21, 24, 20, 26, 29, 7, 17, 10, 20, 17, 21, 25, 22, 24, 15, 21, 15, 18, 7, 18, 13, 17, 18, 14, 11, 20, 9, 16, 43, 9, 47, 11, 11, 29, 31, 3, 12, 27, 10, 28, 26, 24, 22, 7, 6, 22, 7, 11, 27, 50, 25, 22, 23, 21, 6, 12, 8, 9, 24, 20, 25, 10, 26, 19, 22, 24, 27, 10, 14, 24, 12, 7, 17, 25, 47, 33, 18, 13, 30, 20, 19, 39, 15, 23, 5, 11, 11, 23, 11, 23, 26, 22, 27, 15, 17, 3, 23, 19, 22, 27, 15, 25, 12, 9, 7, 12, 9, 13, 22, 25, 17, 14, 1, 15, 20, 3, 10, 22, 15, 3, 7, 43, 19, 26, 7, 7, 22, 20, 17, 25, 23, 25, 34, 14, 22, 5, 26, 7, 7, 25, 28, 13, 6, 23, 6, 13, 23, 43, 15, 22, 18, 27, 36, 19, 20, 24, 5, 22, 21, 7, 9, 5, 43, 26, 15, 28, 21, 13, 14, 10, 12, 27, 19, 9, 20, 5, 17, 21, 9, 10, 27, 23, 15, 19, 15, 17, 18, 21, 13, 13, 7, 7, 23, 19, 32, 13, 25, 11, 12, 28, 19, 16, 19, 25, 19, 23, 7, 16, 23, 26, 39, 14, 9, 16, 25, 17, 15, 7, 25, 23, 5, 20, 25, 21, 15, 9, 25, 12, 14, 7, 16, 30, 15, 7, 29, 7, 7, 21, 22, 33, 7, 27, 13, 15, 29, 24, 16, 20, 25, 30, 16, 21, 6, 14, 21, 1, 25, 23, 20, 41, 28, 3, 7, 5, 19, 28, 16, 21, 22, 14, 1, 26, 20, 15, 9, 13, 37, 21, 43, 13, 25, 22, 19, 5, 17, 24, 14, 3, 16, 19, 21, 22, 19, 27, 26, 13, 15, 25, 5, 23, 18, 18, 13, 34, 19, 13, 22, 17, 28, 27, 24, 19, 19, 3, 20, 24, 8, 25, 39, 13, 23, 15, 3, 1, 24, 14, 19, 19, 26, 5, 25, 47, 5, 16, 13, 30, 14, 9, 26, 21, 23, 16, 15, 19, 20, 11, 22, 26, 15, 25, 25, 15, 9, 24, 18, 28, 23, 19, 24, 22, 22, 26, 14, 13, 25, 23, 30, 6, 21, 23, 21, 14, 7, 9, 11, 5, 7, 26, 27, 28, 3, 12, 15, 18, 25, 9, 18, 19, 9, 21, 18, 13, 4, 5, 8, 4, 3, 33, 23, 16, 10, 12, 17, 3, 26, 19, 25, 35, 23, 25, 17, 26, 17, 7, 21, 8, 5, 12, 25, 7, 5, 23, 23, 16, 20, 13, 17, 22, 19, 28, 17, 23, 26, 10, 26, 21, 17, 25, 9, 16, 27, 21, 12, 3, 11, 4, 18, 19, 25, 23, 22, 20, 7, 11, 5, 23, 22, 19, 25, 45, 11, 7, 16, 18, 11, 7, 22, 17, 13, 6, 7, 16, 23, 27, 19, 23, 20, 26, 7, 4, 19, 30, 24, 9, 39, 26, 5, 7, 10, 29, 23, 9, 3, 24, 31, 19, 29, 17, 24, 24, 25, 14, 19, 28, 26, 13, 14, 7, 24, 26, 10, 8, 21, 19, 31, 7, 23, 23, 25, 24, 24, 25, 5, 24, 11, 16, 15, 31, 20, 26, 5, 24, 20, 5, 3, 7, 13, 19, 19, 20, 24, 20, 5, 18, 26, 26, 29, 24, 3, 23, 15, 16, 3, 19, 26, 6, 20, 24, 15, 1, 27, 9, 23, 25, 36, 26, 1, 1, 9, 6, 26, 22, 5, 9, 46, 7, 21, 3, 22, 22, 25, 28, 3, 17, 23, 17, 7, 12, 33, 13, 7, 13, 21, 25, 15, 23, 3, 29, 26, 15, 19, 23, 5, 21, 24, 18, 7, 26, 16, 28, 13, 11, 19, 12, 21, 7, 19, 23, 8, 5, 16, 20, 26, 13, 28, 8, 1, 12, 37, 24, 10, 25, 13, 24, 24, 15, 41, 6, 25, 23, 15, 7, 26, 14, 5, 1, 6, 26, 21, 6, 12, 11, 16, 22, 33, 7, 20, 23, 15, 26, 17, 26, 13, 27, 28, 25, 5, 13, 23, 15, 25, 31, 7, 22, 21, 29, 25, 29, 27, 7, 7, 27, 26, 7, 14, 13, 22, 32, 11, 24, 5, 22, 24, 32, 26, 27, 14, 19, 5, 23, 3, 22, 25, 8, 20, 5, 21, 15, 37, 25, 9, 24, 14, 5, 11, 17, 19, 19, 28, 19, 8, 27, 28, 9, 26, 19, 22, 33, 25, 11, 13, 29, 16, 19, 22, 27, 16, 22, 6, 11, 25, 17, 13, 7, 17, 7, 30, 25, 23, 5, 24, 19, 15, 26, 13, 47, 23, 22, 4, 19, 25, 8, 17, 17, 6, 1, 7, 24, 11, 34, 37, 31, 7, 24, 20, 22, 45, 17, 12, 44, 17, 15, 8, 29, 21, 27, 29, 23, 20, 26, 28, 19, 31, 25, 5, 7, 24, 26, 18, 18, 5, 5, 3, 23, 25, 27, 3, 25, 26, 8, 17, 10, 23, 26, 21, 15, 30, 21, 26, 24, 9, 13, 26, 15, 23, 23, 7, 3, 41, 5, 21, 29, 5, 19, 21, 3, 5, 7, 23, 13, 23, 22, 9, 15, 21, 3, 3, 18, 5, 14, 25, 16, 12, 21, 20, 19, 4, 18, 8, 21, 8, 46, 24, 37, 9, 7, 13, 5, 6, 25, 29, 26, 5, 11, 15, 19, 25, 5, 6, 23, 24, 26, 31, 7, 15, 17, 11, 12, 7, 26, 21, 27, 23, 3, 23, 29, 13, 19, 11, 3, 24, 9, 4, 7, 7, 24, 5, 29, 13, 23, 6, 25, 11, 25, 13, 21, 49, 21, 7, 42, 22, 12, 18, 5, 8, 28, 31, 12, 25, 16, 29, 22, 21, 13, 43, 41, 24, 29, 19, 28, 31, 12, 19, 19, 3, 28, 26, 13, 11, 17, 5, 24, 27, 1, 29, 5, 35, 37, 3, 7, 25, 18, 17, 41, 23, 25, 3, 19, 11, 9, 11, 27, 17, 23, 24, 18, 19, 15, 23, 27, 23, 6, 18, 22, 19, 14, 24, 21, 8, 29, 15, 23, 32, 9, 11, 9, 24, 24, 13, 3, 25, 11, 17, 3, 3, 21, 15, 7, 7, 19, 13, 7, 12, 6, 20, 27, 17, 24, 9, 11, 26, 1, 11, 20, 24, 25, 21, 7, 30, 11, 22, 19, 17, 5, 15, 13, 20, 13, 26, 27, 31, 21, 4, 7, 31, 28, 1, 22, 7, 9, 21, 13, 3, 21, 23, 7, 16, 23, 25, 24, 12, 47, 27, 3, 11, 24, 7, 5, 20, 3, 21, 15, 19, 7, 3, 23, 7, 21, 7, 7, 10, 29, 20, 8, 24, 14, 25, 23, 23, 4, 9, 25, 17, 25, 23, 17, 41, 17, 32, 16, 21, 23, 28, 33, 5, 27, 23, 26, 4, 31, 17, 5, 9, 29, 16, 7, 17, 7, 22, 7, 29, 24, 24, 15, 17, 24, 18, 39, 25, 14, 26, 7, 18, 5, 31, 19, 6, 21, 29, 25, 22, 3, 25, 33, 15, 21, 24, 24, 16, 17, 12, 5, 24, 23, 23, 22, 22, 7, 5, 7, 7, 38, 19, 17, 9, 6, 26, 21, 6, 13, 27, 29, 45, 21, 19, 14, 25, 33, 29, 25, 29, 31, 15, 27, 31, 20, 22, 27, 20, 3, 7, 5, 22, 21, 37, 8, 5, 25, 21, 13, 18, 24, 27, 22, 7, 23, 19, 23, 26, 17, 22, 26, 21, 40, 26, 15, 6, 12, 5, 6, 7, 23, 26, 5, 26, 7, 22, 26, 15, 19, 21, 22, 28, 33, 29, 22, 6, 23, 25, 5, 24, 32, 15, 13, 6, 8, 23, 21, 25, 7, 5, 15, 44, 25, 17, 9, 11, 23, 20, 24, 3, 19, 23, 16, 11, 24, 22, 26, 3, 9, 29, 28, 21, 6, 23, 31, 5, 9, 10, 11, 10, 19, 15, 13, 31, 7, 22, 15, 7, 25, 3, 5, 8, 19, 17, 5, 21, 10, 10, 25, 26, 13, 25, 40, 5, 3, 3, 7, 15, 17, 13, 17, 26, 22, 28, 24, 2, 21, 13, 21, 21, 13, 1, 15, 13, 21, 13, 7, 29, 17, 21, 5, 5, 11, 24, 7, 6, 3, 15, 18, 7, 23, 25, 26, 19, 23, 20, 6, 7, 11, 13, 19, 15, 1, 24, 17, 15, 27, 5, 11, 10, 22, 17, 13, 25, 19, 13, 15, 28, 26, 5, 5, 13, 19, 26, 19, 37, 17, 8, 9, 24, 23, 26, 17, 24, 7, 13, 25, 5, 17, 17, 18, 24, 12, 17, 12, 12, 7, 22, 25, 27, 24, 27, 16, 26, 25, 13, 35, 25, 27, 8, 4, 25, 23, 25, 14, 16, 13, 26, 7, 23, 13, 24, 7, 21, 25, 24, 23, 22, 23, 13, 5, 11, 19, 29, 28, 7, 15, 11, 26, 29, 20, 1, 7, 34, 3, 21, 10, 25, 28, 13, 11, 14, 21, 1, 24, 24, 18, 22, 7, 5, 3, 21, 39, 7, 3, 7, 5, 6, 17, 13, 23, 11, 14, 24, 14, 5, 6, 24, 27, 22, 19, 42, 23, 27, 22, 17, 21, 13, 50, 18, 3, 42, 25, 19, 5, 28, 5, 5, 25, 25, 17, 12, 8, 4, 49, 25, 39, 13, 7, 26, 13, 24, 17, 3, 23, 4, 45, 23, 28, 43, 19, 25, 27, 17, 7, 26, 19, 14, 11, 15, 13, 25, 10, 6, 3, 26, 21, 24, 21, 3, 33, 25, 20, 8, 21, 13, 9, 22, 13, 45, 6, 27, 21, 18, 25, 13, 6, 13, 5, 27, 12, 23, 23, 5, 26, 19, 18, 14, 17, 22, 31, 22, 7, 7, 20, 16, 11, 7, 20, 24, 17, 28, 29, 19, 26, 3, 15, 15, 45, 19, 24, 5, 13, 17, 14, 25, 23, 28, 27, 7, 13, 21, 18, 3, 25, 9, 26, 27, 23, 11, 27, 21, 23, 22, 31, 14, 13, 7, 5, 25, 8, 24, 26, 13, 3, 24, 25, 17, 17, 17, 17, 19, 23, 28, 9, 17, 9, 11, 25, 24, 7, 3, 50, 22, 23, 6, 26, 5, 22, 9, 23, 16, 13, 13, 5, 16, 21, 26, 8, 26, 24, 14, 26, 3, 4, 24, 37, 5, 23, 7, 23, 27, 13, 29, 10, 16, 9, 12, 7, 25, 7, 13, 11, 22, 24, 37, 28, 15, 25, 31, 28, 25, 8, 3, 5, 29, 44, 3, 26, 28, 10, 1, 7, 32, 19, 27, 19, 23, 23, 5, 18, 7, 1, 9, 19, 23, 15, 19, 22, 9, 26, 29, 44, 1, 17, 3, 24, 21, 15, 19, 9, 7, 3, 20, 9, 11, 23, 18, 14, 25, 27, 21, 24, 13, 9, 3, 18, 47, 15, 12, 13, 7, 25, 24, 29, 9, 25, 23, 21, 13, 26, 7, 31, 8, 20, 21, 9, 22, 4, 19, 7, 20, 6, 25, 14, 27, 27, 11, 13, 7, 27, 7, 25, 21, 18, 26, 19, 11, 11, 15, 12, 24, 22, 3, 15, 5, 19, 24, 25, 21, 21, 21, 24, 23, 15, 25, 21, 19, 27, 45, 11, 6, 26, 24, 8, 26, 23, 21, 23, 14, 13, 14, 16, 25, 18, 3, 28, 5, 21, 25, 24, 24, 5, 14, 19, 45, 11, 1, 7, 19, 21, 7, 25, 5, 16, 24, 5, 9, 22, 9, 25, 17, 26, 25, 27, 9, 29, 13, 15, 16, 6, 25, 14, 33, 10, 35, 43, 17, 28, 9, 18, 24, 41, 12, 25, 27, 35, 31, 15, 28, 10, 3, 15, 17, 15, 24, 20, 13, 24, 6, 17, 19, 3, 33, 17, 26, 13, 22, 34, 7, 29, 24, 15, 28, 1, 26, 30, 19, 5, 5, 4, 25, 3, 7, 18, 17, 5, 43, 7, 15, 18, 19, 7, 5, 31, 17, 24, 27, 20, 9, 5, 28, 15, 7, 21, 27, 21, 43, 19, 22, 19, 18, 23, 39, 18, 5, 1, 29, 11, 31, 14, 17, 21, 31, 20, 12, 23, 3, 5, 10, 16, 9, 27, 9, 15, 26, 21, 20, 14, 8, 6, 8, 29, 16, 24, 26, 5, 41, 25, 7, 26, 23, 21, 26, 23, 24, 13, 37, 23, 23, 37, 7, 23, 19, 19, 23, 19, 22, 26, 43, 26, 14, 10, 27, 16, 14, 10, 41, 13, 21, 21, 8, 9, 9, 26, 23, 17, 30, 5, 27, 3, 19, 9, 8, 22, 16, 24, 15, 11, 24, 7, 27, 24, 23, 18, 16, 29, 13, 7, 16, 28, 25, 36, 5, 27, 23, 16, 3, 25, 17, 11, 41, 22, 25, 7, 5, 29, 5, 26, 24, 28, 7, 25, 15, 24, 7, 17, 11, 27, 24, 19, 32, 5, 41, 14, 24, 14, 11, 23, 11, 39, 26, 18, 24, 21, 24, 1, 26, 19, 5, 16, 25, 14, 18, 22, 19, 10, 17, 11, 13, 24, 25, 24, 12, 3, 20, 23, 25, 23, 23, 17, 37, 5, 27, 25, 17, 28, 21, 15, 24, 13, 7, 25, 24, 15, 12, 20, 6, 7, 28, 21, 4, 6, 19, 13, 3, 39, 14, 10, 24, 13, 15, 15, 13, 22, 17, 11, 6, 11, 18, 21, 29, 24, 22, 4, 25, 15, 7, 7, 22, 11, 37, 3, 9, 22, 17, 19, 9, 13, 17, 15, 19, 10, 5, 14, 23, 26, 15, 16, 25, 5, 12, 18, 3, 1, 22, 22, 15, 9, 25, 20, 22, 44, 7, 15, 15, 5, 3, 18, 5, 13, 18, 22, 22, 19, 25, 26, 24, 7, 25, 5, 5, 11, 5, 27, 22, 26, 3, 25, 11, 7, 26, 23, 9, 14, 13, 20, 31, 18, 46, 12, 29, 7, 14, 27, 23, 7, 18, 23, 24, 27, 11, 23, 5, 15, 11, 13, 19, 15, 5, 22, 5, 22, 17, 3, 3, 17, 5, 26, 19, 31, 22, 8, 11, 20, 6, 9, 19, 10, 14, 6]\n",
      "7\n"
     ]
    }
   ],
   "source": [
    "# Import statistics Library\n",
    "import statistics\n",
    "# initialize the KNN classifier, n_neighbors is not relevant because it will iterate later through the grid search\n",
    "knn = KNeighborsClassifier(n_neighbors=1)\n",
    "# define parameter grid for `n_neighbors` ranging from 1 to 50\n",
    "parameter_grid = {\n",
    "    \"n_neighbors\": range(1, 51, 1),\n",
    "}\n",
    "# implement a grid search using `GridSearchCV` with 10-fold cross-validation to find the optimal number of neighbors\n",
    "# even if it doesn't ask for, use of scoring='accuracy' because it is the output required later\n",
    "wine_tune_grid = GridSearchCV(\n",
    "    estimator=knn,\n",
    "    param_grid=parameter_grid,\n",
    "    cv=10,\n",
    "    scoring='accuracy'\n",
    ")\n",
    "# Loop through several seeds and save the best parameter for k n_neighbors\n",
    "seeds_max = 2880\n",
    "seeds = []\n",
    "for seed in range(seeds_max):\n",
    "    # split the data into a training and testing set. hint: use train_test_split !\n",
    "    predictors_standardized_train, predictors_standardized_test, response_var_train, response_var_test = train_test_split(\n",
    "        predictors_standardized, response_var, train_size=0.75, stratify = response_var, random_state=seed\n",
    "    )\n",
    "    # predictor - X, response - y\n",
    "    X_train = predictors_standardized_train\n",
    "    y_train = response_var_train\n",
    "    # fit the model on the training data\n",
    "    wine_tune_grid.fit(X_train, y_train)\n",
    "    # identify and return the best value for `n_neighbors` based on the grid search results\n",
    "    seeds.append(wine_tune_grid.best_params_.get(\"n_neighbors\"))\n",
    "print(seeds)\n",
    "k_best = statistics.mode(seeds)\n",
    "print(k_best)"
   ]
  },
  {
   "cell_type": "code",
   "execution_count": 35,
   "id": "4bbab050",
   "metadata": {},
   "outputs": [
    {
     "data": {
      "text/plain": [
       "<Axes: >"
      ]
     },
     "execution_count": 35,
     "metadata": {},
     "output_type": "execute_result"
    },
    {
     "data": {
      "image/png": "[encoded data removed]",
      "text/plain": [
       "<Figure size 1200x600 with 1 Axes>"
      ]
     },
     "metadata": {},
     "output_type": "display_data"
    }
   ],
   "source": [
    "series = pd.Series(seeds)\n",
    "series.value_counts().sort_index().plot(kind='bar', figsize=(12, 6), color='blue')"
   ]
  },
  {
   "cell_type": "markdown",
   "id": "3f76bf62",
   "metadata": {},
   "source": [
    "#### Model evaluation\n",
    "\n",
    "Using the best value for `n_neighbors`, fit a KNN model on the training data and evaluate its performance on the test set using `accuracy_score`."
   ]
  },
  {
   "cell_type": "code",
   "execution_count": null,
   "id": "8e2119f0",
   "metadata": {},
   "outputs": [
    {
     "name": "stdout",
     "output_type": "stream",
     "text": [
      "Going through all these possible split shuffles with k = 25, the accuracy score average is 97.1% and the standard deviation is 2.2%\n"
     ]
    }
   ],
   "source": [
    "# best value for `n_neighbors` is k_best = 19\n",
    "#k_best = 7   # Going through all these possible split shuffles with k = 7, the accuracy score average is 96.6% and the standard deviation is 2.4%\n",
    "#k_best = 24  # Going through all these possible split shuffles with k = 24, the accuracy score average is 96.9% and the standard deviation is 2.3%\n",
    "#k_best = 25  # Going through all these possible split shuffles with k = 25, the accuracy score average is 97.1% and the standard deviation is 2.2%\n",
    "knn = KNeighborsClassifier(n_neighbors = k_best)\n",
    "accuracy_score_list = []\n",
    "# with best k n_neighbors figured out, I calculate the accuracy score in all previous seeds and do the average\n",
    "for seed in range(seeds_max):\n",
    "    # split the data into a training and testing set. hint: use train_test_split !\n",
    "    predictors_standardized_train, predictors_standardized_test, response_var_train, response_var_test = train_test_split(\n",
    "        predictors_standardized, response_var, train_size=0.75, stratify = response_var, random_state=seed\n",
    "    )\n",
    "    # predictor - X, response - y\n",
    "    X_train = predictors_standardized_train\n",
    "    y_train = response_var_train\n",
    "    # fit the model on the training data\n",
    "    knn.fit(X_train, y_train)\n",
    "    # bring the test data\n",
    "    X_test = predictors_standardized_test\n",
    "    y_true = response_var_test\n",
    "    # predict the class labels for the test data\n",
    "    y_pred = knn.predict(X_test)\n",
    "    # obtain the accuracy score\n",
    "    accuracy_score_list.append(accuracy_score(y_true, y_pred))\n",
    "accuracy_score_av = statistics.mean(accuracy_score_list)\n",
    "accuracy_score_sd = statistics.stdev(accuracy_score_list)\n",
    "print(f'Going through all these possible split shuffles with k = {k_best}, the accuracy score average is {round(accuracy_score_av*100,1)}% and the standard deviation is {round(accuracy_score_sd*100,1)}%')"
   ]
  }
 ],
 "metadata": {
  "kernelspec": {
   "display_name": "dsi_participant",
   "language": "python",
   "name": "python3"
  },
  "language_info": {
   "codemirror_mode": {
    "name": "ipython",
    "version": 3
   },
   "file_extension": ".py",
   "mimetype": "text/x-python",
   "name": "python",
   "nbconvert_exporter": "python",
   "pygments_lexer": "ipython3",
   "version": "3.9.19"
  }
 },
 "nbformat": 4,
 "nbformat_minor": 5
}
