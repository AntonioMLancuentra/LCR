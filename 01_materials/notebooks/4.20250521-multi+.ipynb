{
 "cells": [
  {
   "cell_type": "code",
   "execution_count": 5,
   "metadata": {},
   "outputs": [],
   "source": [
    "import numpy as np\n",
    "import pandas as pd\n",
    "import matplotlib.pyplot as plt\n",
    "from sklearn.model_selection import cross_validate\n",
    "from sklearn.model_selection import train_test_split\n",
    "from sklearn.linear_model import LinearRegression\n",
    "from sklearn.metrics import mean_squared_error , r2_score\n",
    "from sklearn import set_config\n",
    "\n",
    "# Output dataframes instead of arrays\n",
    "set_config(transform_output=\"pandas\")"
   ]
  },
  {
   "cell_type": "code",
   "execution_count": null,
   "metadata": {},
   "outputs": [
    {
     "data": {
      "text/html": [
       "<div>\n",
       "<style scoped>\n",
       "    .dataframe tbody tr th:only-of-type {\n",
       "        vertical-align: middle;\n",
       "    }\n",
       "\n",
       "    .dataframe tbody tr th {\n",
       "        vertical-align: top;\n",
       "    }\n",
       "\n",
       "    .dataframe thead th {\n",
       "        text-align: right;\n",
       "    }\n",
       "</style>\n",
       "<table border=\"1\" class=\"dataframe\">\n",
       "  <thead>\n",
       "    <tr style=\"text-align: right;\">\n",
       "      <th></th>\n",
       "      <th>street</th>\n",
       "      <th>city</th>\n",
       "      <th>zip</th>\n",
       "      <th>state</th>\n",
       "      <th>beds</th>\n",
       "      <th>baths</th>\n",
       "      <th>sq__ft</th>\n",
       "      <th>type</th>\n",
       "      <th>sale_date</th>\n",
       "      <th>price</th>\n",
       "      <th>latitude</th>\n",
       "      <th>longitude</th>\n",
       "    </tr>\n",
       "  </thead>\n",
       "  <tbody>\n",
       "    <tr>\n",
       "      <th>0</th>\n",
       "      <td>1005 MORENO WAY</td>\n",
       "      <td>SACRAMENTO</td>\n",
       "      <td>95838</td>\n",
       "      <td>CA</td>\n",
       "      <td>3</td>\n",
       "      <td>2</td>\n",
       "      <td>1410</td>\n",
       "      <td>Residential</td>\n",
       "      <td>Fri May 16 00:00:00 EDT 2008</td>\n",
       "      <td>180000</td>\n",
       "      <td>38.646206</td>\n",
       "      <td>-121.442767</td>\n",
       "    </tr>\n",
       "    <tr>\n",
       "      <th>1</th>\n",
       "      <td>10105 MONTE VALLO CT</td>\n",
       "      <td>SACRAMENTO</td>\n",
       "      <td>95827</td>\n",
       "      <td>CA</td>\n",
       "      <td>4</td>\n",
       "      <td>2</td>\n",
       "      <td>1578</td>\n",
       "      <td>Residential</td>\n",
       "      <td>Fri May 16 00:00:00 EDT 2008</td>\n",
       "      <td>190000</td>\n",
       "      <td>38.573917</td>\n",
       "      <td>-121.316916</td>\n",
       "    </tr>\n",
       "    <tr>\n",
       "      <th>2</th>\n",
       "      <td>10133 NEBBIOLO CT</td>\n",
       "      <td>ELK GROVE</td>\n",
       "      <td>95624</td>\n",
       "      <td>CA</td>\n",
       "      <td>4</td>\n",
       "      <td>3</td>\n",
       "      <td>2096</td>\n",
       "      <td>Residential</td>\n",
       "      <td>Fri May 16 00:00:00 EDT 2008</td>\n",
       "      <td>289000</td>\n",
       "      <td>38.391085</td>\n",
       "      <td>-121.347231</td>\n",
       "    </tr>\n",
       "    <tr>\n",
       "      <th>3</th>\n",
       "      <td>10165 LOFTON WAY</td>\n",
       "      <td>ELK GROVE</td>\n",
       "      <td>95757</td>\n",
       "      <td>CA</td>\n",
       "      <td>3</td>\n",
       "      <td>2</td>\n",
       "      <td>1540</td>\n",
       "      <td>Residential</td>\n",
       "      <td>Fri May 16 00:00:00 EDT 2008</td>\n",
       "      <td>266510</td>\n",
       "      <td>38.387708</td>\n",
       "      <td>-121.436522</td>\n",
       "    </tr>\n",
       "    <tr>\n",
       "      <th>4</th>\n",
       "      <td>10254 JULIANA WAY</td>\n",
       "      <td>SACRAMENTO</td>\n",
       "      <td>95827</td>\n",
       "      <td>CA</td>\n",
       "      <td>4</td>\n",
       "      <td>2</td>\n",
       "      <td>2484</td>\n",
       "      <td>Residential</td>\n",
       "      <td>Fri May 16 00:00:00 EDT 2008</td>\n",
       "      <td>331200</td>\n",
       "      <td>38.568030</td>\n",
       "      <td>-121.309966</td>\n",
       "    </tr>\n",
       "  </tbody>\n",
       "</table>\n",
       "</div>"
      ],
      "text/plain": [
       "                 street        city    zip state  beds  baths  sq__ft  \\\n",
       "0       1005 MORENO WAY  SACRAMENTO  95838    CA     3      2    1410   \n",
       "1  10105 MONTE VALLO CT  SACRAMENTO  95827    CA     4      2    1578   \n",
       "2     10133 NEBBIOLO CT   ELK GROVE  95624    CA     4      3    2096   \n",
       "3      10165 LOFTON WAY   ELK GROVE  95757    CA     3      2    1540   \n",
       "4     10254 JULIANA WAY  SACRAMENTO  95827    CA     4      2    2484   \n",
       "\n",
       "          type                     sale_date   price   latitude   longitude  \n",
       "0  Residential  Fri May 16 00:00:00 EDT 2008  180000  38.646206 -121.442767  \n",
       "1  Residential  Fri May 16 00:00:00 EDT 2008  190000  38.573917 -121.316916  \n",
       "2  Residential  Fri May 16 00:00:00 EDT 2008  289000  38.391085 -121.347231  \n",
       "3  Residential  Fri May 16 00:00:00 EDT 2008  266510  38.387708 -121.436522  \n",
       "4  Residential  Fri May 16 00:00:00 EDT 2008  331200  38.568030 -121.309966  "
      ]
     },
     "execution_count": 6,
     "metadata": {},
     "output_type": "execute_result"
    }
   ],
   "source": [
    "sacramento = pd.read_csv(\"dataset/sacramento.csv\")\n",
    "sacramento.head()\n",
    "\n",
    "# SET ZIP AS CATEGORICAL"
   ]
  },
  {
   "cell_type": "markdown",
   "metadata": {},
   "source": [
    "### Training, evaluating, and tuning the model"
   ]
  },
  {
   "cell_type": "code",
   "execution_count": 7,
   "metadata": {},
   "outputs": [],
   "source": [
    "# Split the sacramento dataset into 75% training data and 25% test data\n",
    "sacramento_train, sacramento_test = train_test_split(\n",
    "    sacramento, train_size=0.75, random_state=42\n",
    ")"
   ]
  },
  {
   "cell_type": "code",
   "execution_count": null,
   "metadata": {},
   "outputs": [
    {
     "data": {
      "text/html": [
       "<div>\n",
       "<style scoped>\n",
       "    .dataframe tbody tr th:only-of-type {\n",
       "        vertical-align: middle;\n",
       "    }\n",
       "\n",
       "    .dataframe tbody tr th {\n",
       "        vertical-align: top;\n",
       "    }\n",
       "\n",
       "    .dataframe thead th {\n",
       "        text-align: right;\n",
       "    }\n",
       "</style>\n",
       "<table border=\"1\" class=\"dataframe\">\n",
       "  <thead>\n",
       "    <tr style=\"text-align: right;\">\n",
       "      <th></th>\n",
       "      <th>slope1</th>\n",
       "      <th>slope2</th>\n",
       "      <th>slope3</th>\n",
       "      <th>intercept</th>\n",
       "    </tr>\n",
       "  </thead>\n",
       "  <tbody>\n",
       "    <tr>\n",
       "      <th>0</th>\n",
       "      <td>165.348136</td>\n",
       "      <td>-31522.287667</td>\n",
       "      <td>-243.377595</td>\n",
       "      <td>2.337508e+07</td>\n",
       "    </tr>\n",
       "  </tbody>\n",
       "</table>\n",
       "</div>"
      ],
      "text/plain": [
       "       slope1        slope2      slope3     intercept\n",
       "0  165.348136 -31522.287667 -243.377595  2.337508e+07"
      ]
     },
     "execution_count": 19,
     "metadata": {},
     "output_type": "execute_result"
    }
   ],
   "source": [
    "# fit the linear regression model\n",
    "mlm = LinearRegression()\n",
    "mlm.fit(\n",
    "   sacramento_train[[\"sq__ft\", \"beds\", \"zip\"]],  # Two predictors: square footage and number of bedrooms\n",
    "   sacramento_train[\"price\"]  # A series (house prices)\n",
    ")\n",
    "\n",
    "# Make a dataframe containing b_1 (slope) and b_0 (intercept) coefficients\n",
    "pd.DataFrame({\"slope1\": [mlm.coef_[0]],\"slope2\": [mlm.coef_[1]],\"slope3\": [mlm.coef_[2]], \"intercept\": [mlm.intercept_]})\n",
    "\n",
    "   # lm.coef_[0] gives the slope b_1 (change in price per unit change in square footage)\n",
    "   # lm.intercept_ gives the intercept b_0 (the predicted price when square footage is 0)"
   ]
  },
  {
   "cell_type": "code",
   "execution_count": 17,
   "metadata": {},
   "outputs": [
    {
     "data": {
      "text/plain": [
       "array([   165.34813614, -31522.2876674 ,   -243.37759481])"
      ]
     },
     "execution_count": 17,
     "metadata": {},
     "output_type": "execute_result"
    }
   ],
   "source": [
    "mlm.coef_"
   ]
  },
  {
   "cell_type": "code",
   "execution_count": 18,
   "metadata": {},
   "outputs": [
    {
     "data": {
      "text/plain": [
       "23375076.64947027"
      ]
     },
     "execution_count": 18,
     "metadata": {},
     "output_type": "execute_result"
    }
   ],
   "source": [
    "mlm.intercept_"
   ]
  },
  {
   "cell_type": "code",
   "execution_count": 20,
   "metadata": {},
   "outputs": [
    {
     "data": {
      "text/plain": [
       "74375.60010949426"
      ]
     },
     "execution_count": 20,
     "metadata": {},
     "output_type": "execute_result"
    }
   ],
   "source": [
    "# make predictions\n",
    "sacramento_test[\"predicted\"] = mlm.predict(sacramento_test[[\"sq__ft\", \"beds\", \"zip\"]])\n",
    "\n",
    "# Calculate RMSPE for the multivariable model.\n",
    "lm_mult_test_RMSPE = mean_squared_error(\n",
    "    y_true=sacramento_test[\"price\"],\n",
    "    y_pred=sacramento_test[\"predicted\"]\n",
    ")**(1/2)\n",
    "\n",
    "lm_mult_test_RMSPE"
   ]
  },
  {
   "cell_type": "code",
   "execution_count": 21,
   "metadata": {},
   "outputs": [
    {
     "data": {
      "text/plain": [
       "0.49342548094008054"
      ]
     },
     "execution_count": 21,
     "metadata": {},
     "output_type": "execute_result"
    }
   ],
   "source": [
    "# Calculate R² \n",
    "lm_mult_test_r2 = r2_score( \n",
    "y_true=sacramento_test[\"price\"], y_pred=sacramento_test[\"predicted\"] \n",
    ")\n",
    "\n",
    "lm_mult_test_r2"
   ]
  },
  {
   "cell_type": "markdown",
   "metadata": {},
   "source": [
    "### Cross-validation"
   ]
  },
  {
   "cell_type": "code",
   "execution_count": 26,
   "metadata": {},
   "outputs": [
    {
     "data": {
      "text/html": [
       "<div>\n",
       "<style scoped>\n",
       "    .dataframe tbody tr th:only-of-type {\n",
       "        vertical-align: middle;\n",
       "    }\n",
       "\n",
       "    .dataframe tbody tr th {\n",
       "        vertical-align: top;\n",
       "    }\n",
       "\n",
       "    .dataframe thead th {\n",
       "        text-align: right;\n",
       "    }\n",
       "</style>\n",
       "<table border=\"1\" class=\"dataframe\">\n",
       "  <thead>\n",
       "    <tr style=\"text-align: right;\">\n",
       "      <th></th>\n",
       "      <th>fit_time</th>\n",
       "      <th>score_time</th>\n",
       "      <th>test_score</th>\n",
       "    </tr>\n",
       "  </thead>\n",
       "  <tbody>\n",
       "    <tr>\n",
       "      <th>0</th>\n",
       "      <td>0.004997</td>\n",
       "      <td>0.003002</td>\n",
       "      <td>-77141.734615</td>\n",
       "    </tr>\n",
       "    <tr>\n",
       "      <th>1</th>\n",
       "      <td>0.004999</td>\n",
       "      <td>0.004003</td>\n",
       "      <td>-91866.310125</td>\n",
       "    </tr>\n",
       "    <tr>\n",
       "      <th>2</th>\n",
       "      <td>0.003000</td>\n",
       "      <td>0.002999</td>\n",
       "      <td>-60896.047870</td>\n",
       "    </tr>\n",
       "    <tr>\n",
       "      <th>3</th>\n",
       "      <td>0.010001</td>\n",
       "      <td>0.003001</td>\n",
       "      <td>-89750.122434</td>\n",
       "    </tr>\n",
       "    <tr>\n",
       "      <th>4</th>\n",
       "      <td>0.004999</td>\n",
       "      <td>0.006999</td>\n",
       "      <td>-74904.642395</td>\n",
       "    </tr>\n",
       "  </tbody>\n",
       "</table>\n",
       "</div>"
      ],
      "text/plain": [
       "   fit_time  score_time    test_score\n",
       "0  0.004997    0.003002 -77141.734615\n",
       "1  0.004999    0.004003 -91866.310125\n",
       "2  0.003000    0.002999 -60896.047870\n",
       "3  0.010001    0.003001 -89750.122434\n",
       "4  0.004999    0.006999 -74904.642395"
      ]
     },
     "execution_count": 26,
     "metadata": {},
     "output_type": "execute_result"
    }
   ],
   "source": [
    "returned_dictionary_mlm = cross_validate(                          # I DID NOT UNDERSTAND CROSS VALIDATION. multiple intercepts and slopes??\n",
    "    estimator=mlm,                                              # IS lm FIT ALREADY WITH TRAINING DATA? b0 and b1 FIXED ALREADY?\n",
    "    cv=5,    # setting up the cross validation number\n",
    "    X= sacramento[[\"sq__ft\", \"beds\", \"zip\"]],\n",
    "    y= sacramento[\"price\"],\n",
    "    scoring=\"neg_root_mean_squared_error\" #or scoring=\"r2\"\n",
    ")\n",
    "\n",
    "cv_5_df_mlm = pd.DataFrame(returned_dictionary_mlm)    # Converting it to pandas DataFrame\n",
    "#cv_5_df_mlm[\"test_score\"] = cv_5_df_mlm[\"test_score\"].abs()\n",
    "cv_5_df_mlm\n",
    "\n",
    "# - Ensures stability—If slope and intercept vary significantly between folds, that’s a sign the model might be unstable.\n",
    "# After tuning, you train one final model on the complete training set, which gives you a single intercept and slope??\n",
    "\n",
    "\n",
    "#scoring method as neg_root_mean_squared_error\n"
   ]
  },
  {
   "cell_type": "code",
   "execution_count": 27,
   "metadata": {},
   "outputs": [
    {
     "data": {
      "text/html": [
       "<div>\n",
       "<style scoped>\n",
       "    .dataframe tbody tr th:only-of-type {\n",
       "        vertical-align: middle;\n",
       "    }\n",
       "\n",
       "    .dataframe tbody tr th {\n",
       "        vertical-align: top;\n",
       "    }\n",
       "\n",
       "    .dataframe thead th {\n",
       "        text-align: right;\n",
       "    }\n",
       "</style>\n",
       "<table border=\"1\" class=\"dataframe\">\n",
       "  <thead>\n",
       "    <tr style=\"text-align: right;\">\n",
       "      <th></th>\n",
       "      <th>fit_time</th>\n",
       "      <th>score_time</th>\n",
       "      <th>test_score</th>\n",
       "    </tr>\n",
       "  </thead>\n",
       "  <tbody>\n",
       "    <tr>\n",
       "      <th>0</th>\n",
       "      <td>0.004997</td>\n",
       "      <td>0.003002</td>\n",
       "      <td>77141.734615</td>\n",
       "    </tr>\n",
       "    <tr>\n",
       "      <th>1</th>\n",
       "      <td>0.004999</td>\n",
       "      <td>0.004003</td>\n",
       "      <td>91866.310125</td>\n",
       "    </tr>\n",
       "    <tr>\n",
       "      <th>2</th>\n",
       "      <td>0.003000</td>\n",
       "      <td>0.002999</td>\n",
       "      <td>60896.047870</td>\n",
       "    </tr>\n",
       "    <tr>\n",
       "      <th>3</th>\n",
       "      <td>0.010001</td>\n",
       "      <td>0.003001</td>\n",
       "      <td>89750.122434</td>\n",
       "    </tr>\n",
       "    <tr>\n",
       "      <th>4</th>\n",
       "      <td>0.004999</td>\n",
       "      <td>0.006999</td>\n",
       "      <td>74904.642395</td>\n",
       "    </tr>\n",
       "  </tbody>\n",
       "</table>\n",
       "</div>"
      ],
      "text/plain": [
       "   fit_time  score_time    test_score\n",
       "0  0.004997    0.003002  77141.734615\n",
       "1  0.004999    0.004003  91866.310125\n",
       "2  0.003000    0.002999  60896.047870\n",
       "3  0.010001    0.003001  89750.122434\n",
       "4  0.004999    0.006999  74904.642395"
      ]
     },
     "execution_count": 27,
     "metadata": {},
     "output_type": "execute_result"
    }
   ],
   "source": [
    "cv_5_df_mlm[\"test_score\"] = cv_5_df_mlm[\"test_score\"].abs()\n",
    "cv_5_df_mlm"
   ]
  },
  {
   "cell_type": "code",
   "execution_count": 28,
   "metadata": {},
   "outputs": [
    {
     "data": {
      "text/html": [
       "<div>\n",
       "<style scoped>\n",
       "    .dataframe tbody tr th:only-of-type {\n",
       "        vertical-align: middle;\n",
       "    }\n",
       "\n",
       "    .dataframe tbody tr th {\n",
       "        vertical-align: top;\n",
       "    }\n",
       "\n",
       "    .dataframe thead th {\n",
       "        text-align: right;\n",
       "    }\n",
       "</style>\n",
       "<table border=\"1\" class=\"dataframe\">\n",
       "  <thead>\n",
       "    <tr style=\"text-align: right;\">\n",
       "      <th></th>\n",
       "      <th>fit_time</th>\n",
       "      <th>score_time</th>\n",
       "      <th>test_score</th>\n",
       "    </tr>\n",
       "  </thead>\n",
       "  <tbody>\n",
       "    <tr>\n",
       "      <th>mean</th>\n",
       "      <td>0.005599</td>\n",
       "      <td>0.004001</td>\n",
       "      <td>78911.771488</td>\n",
       "    </tr>\n",
       "    <tr>\n",
       "      <th>sem</th>\n",
       "      <td>0.001167</td>\n",
       "      <td>0.000774</td>\n",
       "      <td>5608.236506</td>\n",
       "    </tr>\n",
       "  </tbody>\n",
       "</table>\n",
       "</div>"
      ],
      "text/plain": [
       "      fit_time  score_time    test_score\n",
       "mean  0.005599    0.004001  78911.771488\n",
       "sem   0.001167    0.000774   5608.236506"
      ]
     },
     "execution_count": 28,
     "metadata": {},
     "output_type": "execute_result"
    }
   ],
   "source": [
    "#aggregate to obtain the mean and standard error across all 5 folds\n",
    "cv_5_metrics_mlm = cv_5_df_mlm.agg([\"mean\",\"sem\"])\n",
    "cv_5_metrics_mlm\n"
   ]
  },
  {
   "cell_type": "markdown",
   "metadata": {},
   "source": [
    "These steps could also be repeated for r2, which is our other main metric for model evaluation."
   ]
  },
  {
   "cell_type": "code",
   "execution_count": 29,
   "metadata": {},
   "outputs": [
    {
     "data": {
      "text/html": [
       "<div>\n",
       "<style scoped>\n",
       "    .dataframe tbody tr th:only-of-type {\n",
       "        vertical-align: middle;\n",
       "    }\n",
       "\n",
       "    .dataframe tbody tr th {\n",
       "        vertical-align: top;\n",
       "    }\n",
       "\n",
       "    .dataframe thead th {\n",
       "        text-align: right;\n",
       "    }\n",
       "</style>\n",
       "<table border=\"1\" class=\"dataframe\">\n",
       "  <thead>\n",
       "    <tr style=\"text-align: right;\">\n",
       "      <th></th>\n",
       "      <th>fit_time</th>\n",
       "      <th>score_time</th>\n",
       "      <th>test_score</th>\n",
       "    </tr>\n",
       "  </thead>\n",
       "  <tbody>\n",
       "    <tr>\n",
       "      <th>mean</th>\n",
       "      <td>0.005201</td>\n",
       "      <td>0.0036</td>\n",
       "      <td>0.538714</td>\n",
       "    </tr>\n",
       "    <tr>\n",
       "      <th>sem</th>\n",
       "      <td>0.000735</td>\n",
       "      <td>0.0004</td>\n",
       "      <td>0.017117</td>\n",
       "    </tr>\n",
       "  </tbody>\n",
       "</table>\n",
       "</div>"
      ],
      "text/plain": [
       "      fit_time  score_time  test_score\n",
       "mean  0.005201      0.0036    0.538714\n",
       "sem   0.000735      0.0004    0.017117"
      ]
     },
     "execution_count": 29,
     "metadata": {},
     "output_type": "execute_result"
    }
   ],
   "source": [
    "#scoring method as r2\n",
    "returned_dictionary_mlm2 = cross_validate(\n",
    "    estimator=mlm,\n",
    "    cv=5,    # setting up the cross validation number\n",
    "    X=sacramento[[\"sq__ft\", \"beds\", \"zip\"]],\n",
    "    y=sacramento[\"price\"],\n",
    "    scoring=\"r2\" \n",
    ")\n",
    "\n",
    "cv_5_df_mlm2 = pd.DataFrame(returned_dictionary_mlm2)    # Converting it to pandas DataFrame\n",
    "\n",
    "cv_5_df_mlm2\n",
    "\n",
    "#aggregate to obtain the mean and standard error across all 5 folds\n",
    "cv_5_metrics_mlm2 = cv_5_df_mlm2.agg([\"mean\",\"sem\"])\n",
    "cv_5_metrics_mlm2"
   ]
  },
  {
   "cell_type": "code",
   "execution_count": 31,
   "metadata": {},
   "outputs": [
    {
     "data": {
      "text/plain": [
       "78888.39853655756"
      ]
     },
     "execution_count": 31,
     "metadata": {},
     "output_type": "execute_result"
    }
   ],
   "source": [
    "# WHAT IF WE EVALUATE IT IN THE WHOLE SET?\n",
    "# make predictions\n",
    "sacramento[\"predicted\"] = mlm.predict(sacramento[[\"sq__ft\", \"beds\", \"zip\"]])\n",
    "\n",
    "# calculate RMSPE_whole_set\n",
    "RMSPE_whole_set = mean_squared_error(\n",
    "    y_true=sacramento[\"price\"],\n",
    "    y_pred=sacramento[\"predicted\"]\n",
    ")**(1/2)\n",
    "\n",
    "RMSPE_whole_set"
   ]
  },
  {
   "cell_type": "code",
   "execution_count": 32,
   "metadata": {},
   "outputs": [
    {
     "data": {
      "text/plain": [
       "0.5646299275124241"
      ]
     },
     "execution_count": 32,
     "metadata": {},
     "output_type": "execute_result"
    }
   ],
   "source": [
    "# WHAT IF WE EVALUATE IT IN THE WHOLE SET?\n",
    "# Calculate R²_whole_set \n",
    "r2_whole_set = r2_score( \n",
    "y_true=sacramento[\"price\"], y_pred=sacramento[\"predicted\"] \n",
    ")\n",
    "\n",
    "r2_whole_set"
   ]
  }
 ],
 "metadata": {
  "kernelspec": {
   "display_name": "dsi_participant",
   "language": "python",
   "name": "python3"
  },
  "language_info": {
   "codemirror_mode": {
    "name": "ipython",
    "version": 3
   },
   "file_extension": ".py",
   "mimetype": "text/x-python",
   "name": "python",
   "nbconvert_exporter": "python",
   "pygments_lexer": "ipython3",
   "version": "3.9.19"
  }
 },
 "nbformat": 4,
 "nbformat_minor": 4
}
